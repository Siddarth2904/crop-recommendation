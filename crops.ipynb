{
 "cells": [
  {
   "cell_type": "code",
   "execution_count": 10,
   "metadata": {},
   "outputs": [],
   "source": [
    "import pandas as pd  \n",
    "from sklearn.model_selection import train_test_split \n",
    "from sklearn.ensemble import RandomForestClassifier\n",
    "import pickle"
   ]
  },
  {
   "cell_type": "code",
   "execution_count": 11,
   "metadata": {},
   "outputs": [
    {
     "name": "stdout",
     "output_type": "stream",
     "text": [
      "   Temperature   Humidity    rainfall label\n",
      "0    20.879744  82.002744  202.935536  rice\n",
      "1    21.770462  80.319644  226.655537  rice\n",
      "2    23.004459  82.320763  263.964248  rice\n",
      "3    26.491096  80.158363  242.864034  rice\n",
      "4    20.130175  81.604873  262.717340  rice\n"
     ]
    }
   ],
   "source": [
    "df=pd.read_csv(\"Crop_recommendation.csv\")\n",
    "df.drop(columns=['N','P','K','ph'],axis=1,inplace=True)\n",
    "print(df.head())"
   ]
  },
  {
   "cell_type": "code",
   "execution_count": 12,
   "metadata": {},
   "outputs": [
    {
     "data": {
      "text/plain": [
       "count    2200.000000\n",
       "mean      103.463655\n",
       "std        54.958389\n",
       "min        20.211267\n",
       "25%        64.551686\n",
       "50%        94.867624\n",
       "75%       124.267508\n",
       "max       298.560117\n",
       "Name: rainfall, dtype: float64"
      ]
     },
     "execution_count": 12,
     "metadata": {},
     "output_type": "execute_result"
    }
   ],
   "source": [
    "df['rainfall'].describe()"
   ]
  },
  {
   "cell_type": "code",
   "execution_count": 13,
   "metadata": {},
   "outputs": [
    {
     "name": "stdout",
     "output_type": "stream",
     "text": [
      "rice           100\n",
      "maize          100\n",
      "jute           100\n",
      "cotton         100\n",
      "coconut        100\n",
      "papaya         100\n",
      "orange         100\n",
      "apple          100\n",
      "muskmelon      100\n",
      "watermelon     100\n",
      "grapes         100\n",
      "mango          100\n",
      "banana         100\n",
      "pomegranate    100\n",
      "lentil         100\n",
      "blackgram      100\n",
      "mungbean       100\n",
      "mothbeans      100\n",
      "pigeonpeas     100\n",
      "kidneybeans    100\n",
      "chickpea       100\n",
      "coffee         100\n",
      "Name: label, dtype: int64\n"
     ]
    }
   ],
   "source": [
    "print(df['label'].value_counts())"
   ]
  },
  {
   "cell_type": "code",
   "execution_count": 14,
   "metadata": {},
   "outputs": [
    {
     "name": "stdout",
     "output_type": "stream",
     "text": [
      "1540 660\n"
     ]
    }
   ],
   "source": [
    "X=df.drop(['label'],axis=1)\n",
    "y=df['label']\n",
    "X_train,X_test,y_train,y_test=train_test_split(X,y,test_size=0.3)\n",
    "print(len(X_train),len(X_test))"
   ]
  },
  {
   "cell_type": "code",
   "execution_count": 15,
   "metadata": {},
   "outputs": [
    {
     "name": "stdout",
     "output_type": "stream",
     "text": [
      "      Temperature   Humidity    rainfall\n",
      "1463    29.943492  93.907412   20.390205\n",
      "485     21.998983  56.310068  136.827431\n",
      "2168    26.124922  63.374792  147.803530\n",
      "1862    29.030650  90.790939  205.572037\n",
      "1192    28.078027  54.964053   97.453736\n"
     ]
    }
   ],
   "source": [
    "print(X_test.head())"
   ]
  },
  {
   "cell_type": "code",
   "execution_count": 16,
   "metadata": {},
   "outputs": [
    {
     "name": "stdout",
     "output_type": "stream",
     "text": [
      "['muskmelon' 'pigeonpeas' 'coffee' 'coconut' 'mango' 'kidneybeans' 'maize'\n",
      " 'coconut' 'banana' 'muskmelon' 'coconut' 'watermelon' 'jute' 'pigeonpeas'\n",
      " 'jute' 'maize' 'chickpea' 'mango' 'mungbean' 'lentil' 'banana' 'apple'\n",
      " 'chickpea' 'blackgram' 'jute' 'grapes' 'pomegranate' 'pomegranate'\n",
      " 'banana' 'coffee' 'kidneybeans' 'blackgram' 'apple' 'apple' 'mothbeans'\n",
      " 'watermelon' 'chickpea' 'lentil' 'orange' 'kidneybeans' 'watermelon'\n",
      " 'coconut' 'grapes' 'jute' 'chickpea' 'mothbeans' 'jute' 'mungbean' 'rice'\n",
      " 'watermelon' 'orange' 'pomegranate' 'orange' 'kidneybeans' 'muskmelon'\n",
      " 'kidneybeans' 'kidneybeans' 'mungbean' 'lentil' 'mungbean' 'mungbean'\n",
      " 'apple' 'mango' 'blackgram' 'coffee' 'papaya' 'mungbean' 'orange'\n",
      " 'grapes' 'mungbean' 'watermelon' 'mungbean' 'apple' 'mungbean' 'chickpea'\n",
      " 'jute' 'coffee' 'chickpea' 'chickpea' 'coffee' 'watermelon' 'rice'\n",
      " 'maize' 'watermelon' 'papaya' 'mungbean' 'coconut' 'blackgram'\n",
      " 'watermelon' 'rice' 'watermelon' 'banana' 'jute' 'watermelon'\n",
      " 'watermelon' 'jute' 'muskmelon' 'orange' 'jute' 'mothbeans' 'muskmelon'\n",
      " 'maize' 'pomegranate' 'coffee' 'jute' 'kidneybeans' 'mothbeans' 'mango'\n",
      " 'orange' 'chickpea' 'papaya' 'banana' 'watermelon' 'rice' 'mothbeans'\n",
      " 'banana' 'jute' 'chickpea' 'papaya' 'grapes' 'jute' 'lentil' 'muskmelon'\n",
      " 'mungbean' 'coffee' 'papaya' 'muskmelon' 'apple' 'pomegranate'\n",
      " 'pigeonpeas' 'pigeonpeas' 'blackgram' 'rice' 'cotton' 'kidneybeans'\n",
      " 'grapes' 'lentil' 'banana' 'banana' 'coffee' 'watermelon' 'cotton'\n",
      " 'coffee' 'lentil' 'mungbean' 'mango' 'mothbeans' 'banana' 'pomegranate'\n",
      " 'mungbean' 'orange' 'papaya' 'blackgram' 'mango' 'banana' 'grapes'\n",
      " 'mango' 'pomegranate' 'jute' 'muskmelon' 'grapes' 'blackgram' 'chickpea'\n",
      " 'maize' 'papaya' 'coffee' 'blackgram' 'coffee' 'mango' 'blackgram'\n",
      " 'coffee' 'mothbeans' 'lentil' 'blackgram' 'kidneybeans' 'cotton'\n",
      " 'watermelon' 'lentil' 'apple' 'maize' 'papaya' 'lentil' 'mothbeans'\n",
      " 'coconut' 'banana' 'blackgram' 'pomegranate' 'mungbean' 'blackgram'\n",
      " 'pomegranate' 'rice' 'maize' 'pigeonpeas' 'cotton' 'apple' 'watermelon'\n",
      " 'pomegranate' 'blackgram' 'watermelon' 'watermelon' 'apple' 'kidneybeans'\n",
      " 'banana' 'kidneybeans' 'coffee' 'chickpea' 'blackgram' 'rice' 'muskmelon'\n",
      " 'apple' 'muskmelon' 'mango' 'cotton' 'watermelon' 'coconut' 'coconut'\n",
      " 'grapes' 'jute' 'banana' 'mungbean' 'coffee' 'mothbeans' 'mothbeans'\n",
      " 'papaya' 'rice' 'kidneybeans' 'maize' 'coffee' 'mango' 'coconut' 'orange'\n",
      " 'chickpea' 'cotton' 'muskmelon' 'mothbeans' 'chickpea' 'jute'\n",
      " 'watermelon' 'muskmelon' 'grapes' 'maize' 'rice' 'pomegranate'\n",
      " 'muskmelon' 'coconut' 'rice' 'pomegranate' 'pigeonpeas' 'banana'\n",
      " 'blackgram' 'jute' 'coconut' 'coconut' 'rice' 'coconut' 'cotton' 'mango'\n",
      " 'grapes' 'grapes' 'coconut' 'apple' 'mothbeans' 'chickpea' 'kidneybeans'\n",
      " 'papaya' 'papaya' 'maize' 'muskmelon' 'rice' 'pomegranate' 'chickpea'\n",
      " 'lentil' 'kidneybeans' 'watermelon' 'watermelon' 'cotton' 'grapes'\n",
      " 'orange' 'pomegranate' 'pomegranate' 'kidneybeans' 'jute' 'cotton'\n",
      " 'coconut' 'kidneybeans' 'mango' 'pigeonpeas' 'muskmelon' 'grapes'\n",
      " 'papaya' 'rice' 'grapes' 'orange' 'apple' 'coconut' 'pigeonpeas' 'grapes'\n",
      " 'banana' 'coffee' 'mungbean' 'blackgram' 'banana' 'chickpea' 'banana'\n",
      " 'grapes' 'apple' 'cotton' 'apple' 'mungbean' 'pigeonpeas' 'jute'\n",
      " 'coconut' 'banana' 'mango' 'kidneybeans' 'banana' 'apple' 'grapes'\n",
      " 'blackgram' 'jute' 'rice' 'pigeonpeas' 'coffee' 'mungbean' 'cotton'\n",
      " 'pomegranate' 'jute' 'watermelon' 'kidneybeans' 'mungbean' 'blackgram'\n",
      " 'coffee' 'jute' 'watermelon' 'apple' 'banana' 'muskmelon' 'chickpea'\n",
      " 'coconut' 'watermelon' 'cotton' 'maize' 'pomegranate' 'chickpea' 'banana'\n",
      " 'pigeonpeas' 'cotton' 'coconut' 'mango' 'mango' 'chickpea' 'apple'\n",
      " 'pigeonpeas' 'coconut' 'jute' 'lentil' 'mango' 'pigeonpeas' 'maize'\n",
      " 'cotton' 'lentil' 'rice' 'papaya' 'maize' 'coconut' 'muskmelon' 'mango'\n",
      " 'banana' 'coconut' 'mothbeans' 'apple' 'lentil' 'pigeonpeas' 'blackgram'\n",
      " 'grapes' 'muskmelon' 'cotton' 'pomegranate' 'cotton' 'jute' 'maize'\n",
      " 'mango' 'rice' 'jute' 'maize' 'watermelon' 'mango' 'lentil' 'rice'\n",
      " 'coffee' 'lentil' 'cotton' 'orange' 'muskmelon' 'mango' 'pigeonpeas'\n",
      " 'grapes' 'maize' 'muskmelon' 'mothbeans' 'maize' 'coffee' 'rice'\n",
      " 'mungbean' 'pigeonpeas' 'pomegranate' 'cotton' 'papaya' 'cotton' 'apple'\n",
      " 'apple' 'muskmelon' 'papaya' 'watermelon' 'apple' 'kidneybeans'\n",
      " 'mothbeans' 'jute' 'blackgram' 'mango' 'mothbeans' 'muskmelon' 'coffee'\n",
      " 'kidneybeans' 'pigeonpeas' 'rice' 'apple' 'rice' 'apple' 'lentil'\n",
      " 'watermelon' 'chickpea' 'chickpea' 'mothbeans' 'pomegranate' 'banana'\n",
      " 'kidneybeans' 'papaya' 'orange' 'jute' 'maize' 'papaya' 'rice'\n",
      " 'muskmelon' 'maize' 'rice' 'lentil' 'muskmelon' 'mango' 'papaya' 'lentil'\n",
      " 'cotton' 'chickpea' 'pomegranate' 'papaya' 'coffee' 'muskmelon'\n",
      " 'pomegranate' 'maize' 'rice' 'cotton' 'banana' 'coconut' 'mango' 'grapes'\n",
      " 'mothbeans' 'mungbean' 'jute' 'banana' 'mothbeans' 'cotton' 'jute'\n",
      " 'watermelon' 'coffee' 'jute' 'apple' 'lentil' 'orange' 'chickpea' 'rice'\n",
      " 'watermelon' 'mango' 'papaya' 'papaya' 'orange' 'apple' 'blackgram'\n",
      " 'pigeonpeas' 'jute' 'watermelon' 'pigeonpeas' 'blackgram' 'pomegranate'\n",
      " 'coconut' 'coconut' 'apple' 'coffee' 'papaya' 'jute' 'coconut' 'coffee'\n",
      " 'pigeonpeas' 'chickpea' 'mango' 'mungbean' 'mungbean' 'orange' 'mungbean'\n",
      " 'pomegranate' 'coffee' 'rice' 'pigeonpeas' 'maize' 'rice' 'jute' 'rice'\n",
      " 'maize' 'maize' 'mango' 'lentil' 'mango' 'lentil' 'grapes' 'rice' 'rice'\n",
      " 'jute' 'mungbean' 'coconut' 'pomegranate' 'blackgram' 'lentil' 'chickpea'\n",
      " 'jute' 'apple' 'mungbean' 'pigeonpeas' 'mango' 'orange' 'apple' 'grapes'\n",
      " 'jute' 'blackgram' 'rice' 'lentil' 'mango' 'apple' 'blackgram' 'papaya'\n",
      " 'kidneybeans' 'maize' 'blackgram' 'grapes' 'coffee' 'coconut' 'papaya'\n",
      " 'orange' 'kidneybeans' 'lentil' 'orange' 'maize' 'apple' 'coconut'\n",
      " 'banana' 'mothbeans' 'pigeonpeas' 'orange' 'papaya' 'jute' 'cotton'\n",
      " 'pigeonpeas' 'mungbean' 'coconut' 'blackgram' 'blackgram' 'lentil'\n",
      " 'pomegranate' 'chickpea' 'blackgram' 'cotton' 'maize' 'mothbeans'\n",
      " 'pigeonpeas' 'coconut' 'maize' 'jute' 'pigeonpeas' 'grapes' 'coconut'\n",
      " 'papaya' 'banana' 'pomegranate' 'maize' 'lentil' 'kidneybeans' 'banana'\n",
      " 'pigeonpeas' 'orange' 'blackgram' 'pigeonpeas' 'jute' 'muskmelon' 'jute'\n",
      " 'mungbean' 'maize' 'apple' 'watermelon' 'muskmelon' 'muskmelon' 'mango'\n",
      " 'apple' 'pomegranate' 'chickpea' 'pigeonpeas' 'watermelon' 'coconut'\n",
      " 'maize' 'coconut' 'watermelon' 'chickpea' 'chickpea' 'apple' 'coconut'\n",
      " 'muskmelon' 'apple' 'watermelon' 'maize' 'cotton' 'papaya' 'muskmelon'\n",
      " 'chickpea' 'jute' 'pigeonpeas' 'orange' 'chickpea' 'orange' 'pomegranate'\n",
      " 'jute' 'grapes' 'kidneybeans' 'apple' 'kidneybeans' 'pomegranate' 'rice'\n",
      " 'pomegranate' 'coconut' 'coconut' 'maize' 'orange' 'lentil' 'mothbeans'\n",
      " 'pomegranate' 'mungbean' 'banana' 'kidneybeans' 'lentil' 'chickpea'\n",
      " 'kidneybeans' 'muskmelon' 'pomegranate' 'kidneybeans']\n",
      "Score is: 0.9363636363636364\n"
     ]
    }
   ],
   "source": [
    "model = RandomForestClassifier()\n",
    "model.fit(X_train, y_train)\n",
    "print(model.predict(X_test))\n",
    "print(\"Score is:\", model.score(X_test, y_test))"
   ]
  },
  {
   "cell_type": "code",
   "execution_count": 17,
   "metadata": {},
   "outputs": [
    {
     "data": {
      "text/html": [
       "<style>#sk-container-id-2 {color: black;background-color: white;}#sk-container-id-2 pre{padding: 0;}#sk-container-id-2 div.sk-toggleable {background-color: white;}#sk-container-id-2 label.sk-toggleable__label {cursor: pointer;display: block;width: 100%;margin-bottom: 0;padding: 0.3em;box-sizing: border-box;text-align: center;}#sk-container-id-2 label.sk-toggleable__label-arrow:before {content: \"▸\";float: left;margin-right: 0.25em;color: #696969;}#sk-container-id-2 label.sk-toggleable__label-arrow:hover:before {color: black;}#sk-container-id-2 div.sk-estimator:hover label.sk-toggleable__label-arrow:before {color: black;}#sk-container-id-2 div.sk-toggleable__content {max-height: 0;max-width: 0;overflow: hidden;text-align: left;background-color: #f0f8ff;}#sk-container-id-2 div.sk-toggleable__content pre {margin: 0.2em;color: black;border-radius: 0.25em;background-color: #f0f8ff;}#sk-container-id-2 input.sk-toggleable__control:checked~div.sk-toggleable__content {max-height: 200px;max-width: 100%;overflow: auto;}#sk-container-id-2 input.sk-toggleable__control:checked~label.sk-toggleable__label-arrow:before {content: \"▾\";}#sk-container-id-2 div.sk-estimator input.sk-toggleable__control:checked~label.sk-toggleable__label {background-color: #d4ebff;}#sk-container-id-2 div.sk-label input.sk-toggleable__control:checked~label.sk-toggleable__label {background-color: #d4ebff;}#sk-container-id-2 input.sk-hidden--visually {border: 0;clip: rect(1px 1px 1px 1px);clip: rect(1px, 1px, 1px, 1px);height: 1px;margin: -1px;overflow: hidden;padding: 0;position: absolute;width: 1px;}#sk-container-id-2 div.sk-estimator {font-family: monospace;background-color: #f0f8ff;border: 1px dotted black;border-radius: 0.25em;box-sizing: border-box;margin-bottom: 0.5em;}#sk-container-id-2 div.sk-estimator:hover {background-color: #d4ebff;}#sk-container-id-2 div.sk-parallel-item::after {content: \"\";width: 100%;border-bottom: 1px solid gray;flex-grow: 1;}#sk-container-id-2 div.sk-label:hover label.sk-toggleable__label {background-color: #d4ebff;}#sk-container-id-2 div.sk-serial::before {content: \"\";position: absolute;border-left: 1px solid gray;box-sizing: border-box;top: 0;bottom: 0;left: 50%;z-index: 0;}#sk-container-id-2 div.sk-serial {display: flex;flex-direction: column;align-items: center;background-color: white;padding-right: 0.2em;padding-left: 0.2em;position: relative;}#sk-container-id-2 div.sk-item {position: relative;z-index: 1;}#sk-container-id-2 div.sk-parallel {display: flex;align-items: stretch;justify-content: center;background-color: white;position: relative;}#sk-container-id-2 div.sk-item::before, #sk-container-id-2 div.sk-parallel-item::before {content: \"\";position: absolute;border-left: 1px solid gray;box-sizing: border-box;top: 0;bottom: 0;left: 50%;z-index: -1;}#sk-container-id-2 div.sk-parallel-item {display: flex;flex-direction: column;z-index: 1;position: relative;background-color: white;}#sk-container-id-2 div.sk-parallel-item:first-child::after {align-self: flex-end;width: 50%;}#sk-container-id-2 div.sk-parallel-item:last-child::after {align-self: flex-start;width: 50%;}#sk-container-id-2 div.sk-parallel-item:only-child::after {width: 0;}#sk-container-id-2 div.sk-dashed-wrapped {border: 1px dashed gray;margin: 0 0.4em 0.5em 0.4em;box-sizing: border-box;padding-bottom: 0.4em;background-color: white;}#sk-container-id-2 div.sk-label label {font-family: monospace;font-weight: bold;display: inline-block;line-height: 1.2em;}#sk-container-id-2 div.sk-label-container {text-align: center;}#sk-container-id-2 div.sk-container {/* jupyter's `normalize.less` sets `[hidden] { display: none; }` but bootstrap.min.css set `[hidden] { display: none !important; }` so we also need the `!important` here to be able to override the default hidden behavior on the sphinx rendered scikit-learn.org. See: https://github.com/scikit-learn/scikit-learn/issues/21755 */display: inline-block !important;position: relative;}#sk-container-id-2 div.sk-text-repr-fallback {display: none;}</style><div id=\"sk-container-id-2\" class=\"sk-top-container\"><div class=\"sk-text-repr-fallback\"><pre>RandomForestClassifier()</pre><b>In a Jupyter environment, please rerun this cell to show the HTML representation or trust the notebook. <br />On GitHub, the HTML representation is unable to render, please try loading this page with nbviewer.org.</b></div><div class=\"sk-container\" hidden><div class=\"sk-item\"><div class=\"sk-estimator sk-toggleable\"><input class=\"sk-toggleable__control sk-hidden--visually\" id=\"sk-estimator-id-2\" type=\"checkbox\" checked><label for=\"sk-estimator-id-2\" class=\"sk-toggleable__label sk-toggleable__label-arrow\">RandomForestClassifier</label><div class=\"sk-toggleable__content\"><pre>RandomForestClassifier()</pre></div></div></div></div></div>"
      ],
      "text/plain": [
       "RandomForestClassifier()"
      ]
     },
     "execution_count": 17,
     "metadata": {},
     "output_type": "execute_result"
    }
   ],
   "source": [
    "model.fit(X,y)"
   ]
  },
  {
   "cell_type": "code",
   "execution_count": 18,
   "metadata": {},
   "outputs": [],
   "source": [
    "pickle.dump(model,open(\"model.pkl\",'wb'))"
   ]
  }
 ],
 "metadata": {
  "kernelspec": {
   "display_name": "Python 3",
   "language": "python",
   "name": "python3"
  },
  "language_info": {
   "codemirror_mode": {
    "name": "ipython",
    "version": 3
   },
   "file_extension": ".py",
   "mimetype": "text/x-python",
   "name": "python",
   "nbconvert_exporter": "python",
   "pygments_lexer": "ipython3",
   "version": "3.11.2"
  },
  "orig_nbformat": 4
 },
 "nbformat": 4,
 "nbformat_minor": 2
}
